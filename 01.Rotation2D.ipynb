{
 "cells": [
  {
   "cell_type": "markdown",
   "id": "1e1bfe94",
   "metadata": {},
   "source": [
    "# Who am I ?\n",
    "\n",
    "- My name is *Pierre Navaro*\n",
    "- Ph.D in Computational Aeroacoustics, 1998-2002 (Université du Havre) (Fortran 77+PVM)\n",
    "- Scientific Software Engineer in Strasbourg (2003-2015) (Fortran 90-2003 + OpenMP-MPI)\n",
    "- Moved to Rennes in 2015 (Numpy + Cython, R + Rcpp)\n",
    "- Julia user since July 2018 (Julia v1.0)\n",
    "    * Simulation numérique en physique des plasmas\n",
    "    * Assimilation de données météo\n",
    "\n",
    "# Advection equation for a rotation in two dimensional domain\n",
    "\n",
    "$$\n",
    "\\frac{d f}{dt} +  (y \\frac{d f}{dx} - x \\frac{d f}{dy}) = 0\n",
    "$$\n",
    "\n",
    "$$ \n",
    "x \\in [-\\pi, \\pi],\\qquad y \\in [-\\pi, \\pi] \\qquad \\mbox{ and } \\qquad t \\in [0, 200\\pi] \n",
    "$$\n",
    "\n"
   ]
  },
  {
   "cell_type": "code",
   "execution_count": null,
   "id": "48a11712",
   "metadata": {},
   "outputs": [],
   "source": [
    "using FFTW, LinearAlgebra, Plots, ProgressMeter\n",
    "using BenchmarkTools"
   ]
  },
  {
   "cell_type": "code",
   "execution_count": null,
   "id": "f432fe8a",
   "metadata": {},
   "outputs": [],
   "source": [
    "\"\"\"\n",
    "    Mesh( xmin, xmax, nx, ymin, ymax, ny)\n",
    "\n",
    "mesh information\n",
    "\"\"\"\n",
    "struct Mesh\n",
    "    \n",
    "    nx   :: Int64\n",
    "    ny   :: Int64\n",
    "    x    :: Vector{Float64}\n",
    "    y    :: Vector{Float64}\n",
    "    kx   :: Vector{Float64}\n",
    "    ky   :: Vector{Float64}\n",
    "    \n",
    "    function Mesh( xmin, xmax, nx, ymin, ymax, ny)\n",
    "        \n",
    "        x = range(xmin, stop=xmax, length=nx+1)[1:end-1]  ## we remove the end point\n",
    "        y = range(ymin, stop=ymax, length=ny+1)[1:end-1]  ## periodic boundary condition\n",
    "        kx = 2π/(xmax-xmin)*[0:nx÷2-1;nx÷2-nx:-1]\n",
    "        ky = 2π/(ymax-ymin)*[0:ny÷2-1;ny÷2-ny:-1]\n",
    "\n",
    "        new( nx, ny, x, y, kx, ky)\n",
    "    end\n",
    "end"
   ]
  },
  {
   "cell_type": "markdown",
   "id": "61ef6733",
   "metadata": {},
   "source": [
    "## Function to compute exact solution"
   ]
  },
  {
   "cell_type": "code",
   "execution_count": null,
   "id": "67f768ea",
   "metadata": {},
   "outputs": [],
   "source": [
    "function exact(time, mesh :: Mesh; shift=1)\n",
    "   \n",
    "    f = zeros(Float64,(mesh.nx, mesh.ny))\n",
    "    for (i, x) in enumerate(mesh.x), (j, y) in enumerate(mesh.y)  # two loops\n",
    "        xn = cos(time)*x - sin(time)*y\n",
    "        yn = sin(time)*x + cos(time)*y\n",
    "        f[i,j] = exp(-(xn-shift)*(xn-shift)/0.1)*exp(-(yn-shift)*(yn-shift)/0.1)\n",
    "    end\n",
    "\n",
    "    f\n",
    "end"
   ]
  },
  {
   "cell_type": "code",
   "execution_count": null,
   "id": "a6b2313e",
   "metadata": {},
   "outputs": [],
   "source": [
    "mesh = Mesh(-π, π, 128, -π, π, 128)\n",
    "f = exact(0.0, mesh)\n",
    "contour(mesh.x, mesh.y, f; aspect_ratio=:equal, clims=(0.,1.))"
   ]
  },
  {
   "cell_type": "markdown",
   "id": "30c6bbba",
   "metadata": {},
   "source": [
    "## Create the gif to show what we are computing"
   ]
  },
  {
   "cell_type": "code",
   "execution_count": null,
   "id": "b0d66321",
   "metadata": {},
   "outputs": [],
   "source": [
    "function animation( tf, nt)\n",
    "    \n",
    "    nx, ny = 64, 64\n",
    "    xmin, xmax, nx = -π, π, nx\n",
    "    ymin, ymax, ny = -π, π, ny\n",
    "    mesh = Mesh(xmin, xmax, nx, ymin, ymax, ny)\n",
    "    f  = zeros(Float64,(nx,ny))\n",
    "    dt = tf / nt\n",
    "    bar = Progress(nt,1) ## progress bar\n",
    "    t = 0\n",
    "    @gif for n=1:nt\n",
    "       \n",
    "       f .= exact(t, mesh)\n",
    "       t += dt\n",
    "       p = contour(mesh.x, mesh.y, f)\n",
    "       plot!(p[1]; clims=(0.,1.), aspect_ratio=:equal)\n",
    "       plot!(sqrt(2) .* cos.(-pi:0.1:pi+0.1), sqrt(2) .* sin.(-pi:0.1:pi+0.1))\n",
    "       next!(bar) ## increment the progress bar\n",
    "        \n",
    "    end\n",
    "    \n",
    "end\n",
    "\n",
    "animation( 2π, 100)"
   ]
  },
  {
   "cell_type": "markdown",
   "id": "2cd8aed9",
   "metadata": {},
   "source": [
    "##  Vectorized version\n",
    "\n",
    "- We store the 2d arrays `exky` and `ekxy` to compute the derivatives.\n",
    "- We save cpu time by computing them before the loop over time"
   ]
  },
  {
   "cell_type": "code",
   "execution_count": null,
   "id": "d746d912",
   "metadata": {},
   "outputs": [],
   "source": [
    "function vectorized(tf, nt, mesh::Mesh)\n",
    "\n",
    "    dt = tf/nt\n",
    "\n",
    "    \n",
    "    f = exact(0.0, mesh)\n",
    "\n",
    "    exky = exp.( 1im*tan(dt/2) .* mesh.x  .* mesh.ky')\n",
    "    ekxy = exp.(-1im*sin(dt)   .* mesh.y' .* mesh.kx )\n",
    "    \n",
    "    for n = 1:nt\n",
    "        f .= real(ifft(exky .* fft(f, 2), 2)) # df / dt = -x * df / dy  in [t,t+dt/2]\n",
    "        f .= real(ifft(ekxy .* fft(f, 1), 1)) # df / dt = y * df / dx in [t,t+dt]\n",
    "        f .= real(ifft(exky .* fft(f, 2), 2)) # df / dt = -x * df / dy in [t+dt/2,t+dt]\n",
    "    end\n",
    "\n",
    "    f\n",
    "end"
   ]
  },
  {
   "cell_type": "code",
   "execution_count": null,
   "id": "83eb6545",
   "metadata": {},
   "outputs": [],
   "source": [
    "nt, tf = 1000, 200π\n",
    "mesh = Mesh(-π, π, 256, -π, π, 512)\n",
    "f = vectorized(0.1, 1, mesh) # trigger build\n",
    "@time norm(vectorized(tf, nt, mesh) .- exact(tf, mesh))"
   ]
  },
  {
   "cell_type": "markdown",
   "id": "ee67f467",
   "metadata": {},
   "source": [
    "```\n",
    "julia --check-bounds=no -O3 --track-allocation=user program.jl\n",
    "```"
   ]
  },
  {
   "cell_type": "code",
   "execution_count": null,
   "id": "8bb1290b",
   "metadata": {},
   "outputs": [],
   "source": [
    "        - function vectorized(tf, nt, mesh::Mesh)\n",
    "        - \n",
    "234240560     dt = tf/nt\n",
    "        - \n",
    "        0     f = exact(0.0, mesh)\n",
    "        - \n",
    "  1048656     exky = exp.( 1im*tan(dt/2) .* mesh.x  .* mesh.ky')\n",
    "  1048656     ekxy = exp.(-1im*sin(dt)   .* mesh.y' .* mesh.kx )\n",
    "        -     \n",
    "        0     for n = 1:nt\n",
    "2621712000         f .= real(ifft(exky .* fft(f, 2), 2))\n",
    "2621712000         f .= real(ifft(ekxy .* fft(f, 1), 1))\n",
    "2621712000         f .= real(ifft(exky .* fft(f, 2), 2))\n",
    "        -     end\n",
    "        - \n",
    "        0     f\n",
    "        - end"
   ]
  },
  {
   "cell_type": "markdown",
   "id": "4170b817",
   "metadata": {},
   "source": [
    "## Inplace computation \n",
    "\n",
    "- We remove the Float64-Complex128 conversion by allocating the distribution function `f` as a Complex array\n",
    "- Note that we need to use the inplace assignement operator \".=\"  to initialize the `f` array.\n",
    "- We use inplace computation for fft with the \"bang\" operator `!`"
   ]
  },
  {
   "cell_type": "code",
   "execution_count": null,
   "id": "37d2ac17",
   "metadata": {},
   "outputs": [],
   "source": [
    "function inplace(tf, nt, mesh::Mesh)\n",
    "\n",
    "    dt = tf/nt\n",
    "\n",
    "    f  = zeros(Complex{Float64},(mesh.nx,mesh.ny))\n",
    "    f .= exact(0.0, mesh)\n",
    "\n",
    "    exky = exp.( 1im*tan(dt/2) .* mesh.x  .* mesh.ky')\n",
    "    ekxy = exp.(-1im*sin(dt)   .* mesh.y' .* mesh.kx )\n",
    "    \n",
    "    for n = 1:nt\n",
    "        \n",
    "        fft!(f, 2)\n",
    "        f .= exky .* f\n",
    "        ifft!(f,2)\n",
    "        \n",
    "        fft!(f, 1)\n",
    "        f .= ekxy .* f\n",
    "        ifft!(f, 1)\n",
    "        \n",
    "        fft!(f, 2)\n",
    "        f .= exky .* f\n",
    "        ifft!(f,2)\n",
    "        \n",
    "    end\n",
    "\n",
    "    real(f)\n",
    "end"
   ]
  },
  {
   "cell_type": "code",
   "execution_count": null,
   "id": "a3098432",
   "metadata": {},
   "outputs": [],
   "source": [
    "f = inplace(0.1, 1, mesh) # trigger build\n",
    "@time norm(inplace(tf, nt, mesh) .- exact(tf, mesh))"
   ]
  },
  {
   "cell_type": "markdown",
   "id": "3a5e76f7",
   "metadata": {},
   "source": [
    "## Inplace computation and fft plans\n",
    "\n",
    "To apply fft plan to an array A, we use a preallocated output array Â by calling `mul!(Â, plan, A)`. \n",
    "The input array A must be a complex floating-point array like the output Â.\n",
    "The inverse-transform is computed inplace by applying `inv(P)` with `ldiv!(A, P, Â)`."
   ]
  },
  {
   "cell_type": "code",
   "execution_count": null,
   "id": "9e69ea09",
   "metadata": {},
   "outputs": [],
   "source": [
    "function with_fft_plans_inplace(tf, nt, mesh::Mesh)\n",
    "\n",
    "    dt = tf/nt\n",
    "\n",
    "    f  = zeros(Complex{Float64},(mesh.nx,mesh.ny))\n",
    "    f .= exact(0.0, mesh)\n",
    "    f̂  = similar(f)\n",
    "\n",
    "    exky = exp.( 1im*tan(dt/2) .* mesh.x  .* mesh.ky')\n",
    "    ekxy = exp.(-1im*sin(dt)   .* mesh.y' .* mesh.kx )\n",
    "\n",
    "    Px = plan_fft(f, 1)    \n",
    "    Py = plan_fft(f, 2)\n",
    "        \n",
    "    for n = 1:nt\n",
    "        \n",
    "        mul!(f̂, Py, f)\n",
    "        f̂ .= f̂ .* exky\n",
    "        ldiv!(f, Py, f̂)\n",
    "        \n",
    "        mul!(f̂, Px, f)\n",
    "        f̂ .= f̂ .* ekxy \n",
    "        ldiv!(f, Px, f̂)\n",
    "        \n",
    "        mul!(f̂, Py, f)\n",
    "        f̂ .= f̂ .* exky\n",
    "        ldiv!(f, Py, f̂)\n",
    "        \n",
    "    end\n",
    "\n",
    "    real(f)\n",
    "end\n"
   ]
  },
  {
   "cell_type": "code",
   "execution_count": null,
   "id": "72d0d4d7",
   "metadata": {},
   "outputs": [],
   "source": [
    "f = with_fft_plans_inplace(0.1, 1, mesh) # trigger build\n",
    "@time norm(with_fft_plans_inplace(tf, nt, mesh) .- exact(tf, mesh))"
   ]
  },
  {
   "cell_type": "markdown",
   "id": "90c2cb8f",
   "metadata": {},
   "source": [
    "## Explicit transpose \n",
    "\n",
    "- Multidimensional arrays in Julia are stored in column-major order.\n",
    "- FFTs along y are slower than FFTs along x\n",
    "- We can speed-up the computation by allocating the transposed `f` \n",
    "and transpose f for each advection along y."
   ]
  },
  {
   "cell_type": "code",
   "execution_count": null,
   "id": "a6de737e",
   "metadata": {},
   "outputs": [],
   "source": [
    "function with_fft_transposed(tf, nt, mesh::Mesh)\n",
    "\n",
    "    dt = tf/nt\n",
    "\n",
    "    f  = zeros(Complex{Float64},(mesh.nx,mesh.ny))\n",
    "    f̂  = similar(f)\n",
    "    fᵗ = zeros(Complex{Float64},(mesh.ny,mesh.nx))\n",
    "    f̂ᵗ = similar(fᵗ)\n",
    "\n",
    "    exky = exp.( 1im*tan(dt/2) .* mesh.x' .* mesh.ky )\n",
    "    ekxy = exp.(-1im*sin(dt)   .* mesh.y' .* mesh.kx )\n",
    "    \n",
    "    FFTW.set_num_threads(4)\n",
    "    Px = plan_fft(f,  1, flags=FFTW.PATIENT)    \n",
    "    Py = plan_fft(fᵗ, 1, flags=FFTW.PATIENT)\n",
    "    \n",
    "    f .= exact(0.0, mesh)\n",
    "    \n",
    "    for n = 1:nt\n",
    "        transpose!(fᵗ,f)\n",
    "        mul!(f̂ᵗ, Py, fᵗ)\n",
    "        f̂ᵗ .= f̂ᵗ .* exky\n",
    "        ldiv!(fᵗ, Py, f̂ᵗ)\n",
    "        transpose!(f,fᵗ)\n",
    "        \n",
    "        mul!(f̂, Px, f)\n",
    "        f̂ .= f̂ .* ekxy \n",
    "        ldiv!(f, Px, f̂)\n",
    "        \n",
    "        transpose!(fᵗ,f)\n",
    "        mul!(f̂ᵗ, Py, fᵗ)\n",
    "        f̂ᵗ .= f̂ᵗ .* exky\n",
    "        ldiv!(fᵗ, Py, f̂ᵗ)\n",
    "        transpose!(f,fᵗ)\n",
    "    end\n",
    "    real(f)\n",
    "end"
   ]
  },
  {
   "cell_type": "code",
   "execution_count": null,
   "id": "f53825ab",
   "metadata": {},
   "outputs": [],
   "source": [
    "f = with_fft_transposed(0.1, 1, mesh) # trigger build\n",
    "@time norm(with_fft_transposed(tf, nt, mesh) .- exact(tf, mesh))"
   ]
  },
  {
   "cell_type": "code",
   "execution_count": null,
   "id": "211d1fb6",
   "metadata": {},
   "outputs": [],
   "source": [
    "vectorized_bench = @benchmark vectorized(tf, nt, mesh)\n",
    "inplace_bench = @benchmark inplace(tf, nt, mesh)\n",
    "with_fft_plans_inplace_bench = @benchmark with_fft_plans_inplace(tf, nt, mesh)\n",
    "with_fft_transposed_bench = @benchmark with_fft_transposed(tf, nt, mesh)"
   ]
  },
  {
   "cell_type": "code",
   "execution_count": null,
   "id": "0f94c4f2",
   "metadata": {},
   "outputs": [],
   "source": [
    "d = Dict() \n",
    "d[\"inplace\"] = minimum(inplace_bench.times) / 1e6\n",
    "d[\"vectorized\"] = minimum(vectorized_bench.times) / 1e6\n",
    "d[\"with_fft_plans_inplace\"] = minimum(with_fft_plans_inplace_bench.times) / 1e6\n",
    "d[\"with_fft_transposed\"] = minimum(with_fft_transposed_bench.times) / 1e6;"
   ]
  },
  {
   "cell_type": "code",
   "execution_count": null,
   "id": "c0ccbf55",
   "metadata": {},
   "outputs": [],
   "source": [
    "for (key, value) in sort(collect(d), by=last)\n",
    "    println(rpad(key, 25, \".\"), lpad(round(value, digits=1), 6, \".\"))\n",
    "end"
   ]
  },
  {
   "cell_type": "markdown",
   "id": "83d198bb",
   "metadata": {},
   "source": [
    "## Conclusion\n",
    "\n",
    "- Use pre-allocations of memory and inplace computation are very important\n",
    "- Try to always do computation on data contiguous in memory\n",
    "- In this notebook, use btime to not taking account of time consumed in compilation."
   ]
  }
 ],
 "metadata": {
  "jupytext": {
   "cell_metadata_filter": "-all",
   "formats": "md,..//ipynb",
   "main_language": "julia"
  }
 },
 "nbformat": 4,
 "nbformat_minor": 5
}
