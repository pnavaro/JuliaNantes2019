{
 "cells": [
  {
   "cell_type": "code",
   "execution_count": null,
   "metadata": {},
   "outputs": [],
   "source": [
    "include(\"04.DeepWaterProblem.jl\")"
   ]
  },
  {
   "cell_type": "code",
   "execution_count": null,
   "metadata": {},
   "outputs": [],
   "source": [
    "using CUDAdrv\n",
    "CUDAdrv.name(CuDevice(0))"
   ]
  },
  {
   "cell_type": "code",
   "execution_count": null,
   "metadata": {},
   "outputs": [],
   "source": [
    "using CuArrays\n",
    "using CuArrays.CUFFT\n",
    "CuArrays.allowscalar(false)"
   ]
  },
  {
   "cell_type": "code",
   "execution_count": null,
   "metadata": {},
   "outputs": [],
   "source": [
    "using BenchmarkTools"
   ]
  },
  {
   "cell_type": "code",
   "execution_count": null,
   "metadata": {},
   "outputs": [],
   "source": [
    "function matsuno!(h, u, p, pinv, Γ, ϵ, Dx, H, Π⅔, unew, hnew, I₀, I₁, I₂, I₃)\n",
    "    \n",
    "    @. unew = Γ * h\n",
    "    pinv * unew\n",
    "    \n",
    "    @. hnew = Dx * h\n",
    "    @. I₁   = hnew\n",
    "    pinv * I₁\n",
    "    \n",
    "    @. I₁ = unew * I₁\n",
    "    p * I₁\n",
    "    \n",
    "    @. I₁ = I₁ * ϵ * Π⅔ - hnew\n",
    "    @. hnew = h\n",
    "    pinv * hnew\n",
    "    \n",
    "    @. unew = u\n",
    "    pinv * unew\n",
    "    \n",
    "    @. I₃ = hnew * unew\n",
    "    p * I₃\n",
    "    \n",
    "    @. h = H * u\n",
    "    @. I₂ = Γ * u \n",
    "    pinv * I₂\n",
    "    \n",
    "    @. hnew = I₂ * hnew \n",
    "    p * hnew\n",
    "    \n",
    "    @. h = h - (I₃ * Dx + hnew * H) * ϵ * Π⅔\n",
    "    @. unew = unew^2  \n",
    "    p * unew\n",
    "    \n",
    "    @. u = I₁ - unew * Dx * ϵ/2 * Π⅔\n",
    "    \n",
    "end"
   ]
  },
  {
   "cell_type": "code",
   "execution_count": null,
   "metadata": {},
   "outputs": [],
   "source": [
    "function loop_over_time( h, u, N, Nt, dt, ϵ, k, kmax )\n",
    "    \n",
    "    Uhat = CuArray{ComplexF64,2}(undef, (N,2))\n",
    "    dU   = CuArray{ComplexF64,2}(undef, (N,2))\n",
    "\n",
    "    data = zeros(ComplexF64,(N,2,Nt))\n",
    "    \n",
    "    Γ   = CuArray(abs.(k))\n",
    "    Dx  = CuArray(1im * k)        # Differentiation\n",
    "    H   = CuArray(-1im * sign.(k)) # Hilbert transform\n",
    "    Π⅔  = CuArray(abs.(k) .< kmax * 2/3) # Dealiasing low-pass filter\n",
    "\n",
    "    hnew = CuArray{ComplexF64}(undef, N)\n",
    "    unew = CuArray{ComplexF64}(undef, N)\n",
    "    \n",
    "    I₀ = CuArray{ComplexF64}(undef,N)\n",
    "    I₁ = CuArray{ComplexF64}(undef,N)\n",
    "    I₂ = CuArray{ComplexF64}(undef,N)\n",
    "    I₃ = CuArray{ComplexF64}(undef,N)\n",
    "    \n",
    "    p    = plan_fft!(h)\n",
    "    pinv = plan_ifft!(h)\n",
    "    \n",
    "    p * h\n",
    "    p * u\n",
    "    \n",
    "    h .= Π⅔ .* h \n",
    "    u .= Π⅔ .* u\n",
    "    \n",
    "    U = CuArray(hcat(h,u))\n",
    "    \n",
    "    for j in 1:Nt\n",
    "        \n",
    "        Uhat .= U\n",
    "        matsuno!( view(Uhat,:,1), view(Uhat,:,2), p, pinv, Γ, ϵ, Dx, H, Π⅔, unew, hnew, I₀, I₁, I₂, I₃ )\n",
    "    \n",
    "        dU   .= Uhat\n",
    "        Uhat .= U .+ dt/2 .* Uhat\n",
    "    \n",
    "        matsuno!(view(Uhat,:,1), view(Uhat,:,2), p, pinv, Γ, ϵ, Dx, H, Π⅔, unew, hnew, I₀, I₁, I₂, I₃  )\n",
    "    \n",
    "        dU   .+= 2 .* Uhat\n",
    "        Uhat .= U .+ dt/2 .* Uhat\n",
    "    \n",
    "        matsuno!( view(Uhat,:,1), view(Uhat,:,2), p, pinv, Γ, ϵ, Dx, H, Π⅔, unew, hnew, I₀, I₁, I₂, I₃ )\n",
    "    \n",
    "        dU   .+= 2 .* Uhat\n",
    "        Uhat .= U .+ dt .* Uhat\n",
    "        \n",
    "        matsuno!( view(Uhat,:,1), view(Uhat,:,2), p, pinv, Γ, ϵ, Dx, H, Π⅔, unew, hnew, I₀, I₁, I₂, I₃ )\n",
    "    \n",
    "        dU .+= Uhat\n",
    "        U  .+= dt/6 .* dU\n",
    "             \n",
    "        data[:,:,j] .= collect(U)\n",
    "        \n",
    "    end\n",
    "    data\n",
    "end"
   ]
  },
  {
   "cell_type": "code",
   "execution_count": null,
   "metadata": {},
   "outputs": [],
   "source": [
    "function main_gpu(N :: Int64; animation=true)\n",
    "\n",
    "    param = ( ϵ  = 1/2,\n",
    "              N  = N,\n",
    "              L  = 10.,\n",
    "              T  = 5.,\n",
    "              dt = 0.001 )\n",
    "    \n",
    "    mesh    = Mesh(param)\n",
    "    times   = Times(param.dt, param.T)\n",
    "    init    = BellCurve(param,2.5)\n",
    "    model   = Matsuno(param)\n",
    "    mesh    = Mesh(param)\n",
    "    \n",
    "    h  = CuArray(init.h)\n",
    "    u  = CuArray(init.u)\n",
    "    \n",
    "    data = loop_over_time( h, u, mesh.N, times.Nt, cu(param.dt), cu(param.ϵ), mesh.k, mesh.kmax )\n",
    "\n",
    "    if animation\n",
    "        create_animation( mesh, times, model, data )\n",
    "    end\n",
    "\n",
    "end"
   ]
  },
  {
   "cell_type": "code",
   "execution_count": null,
   "metadata": {},
   "outputs": [],
   "source": [
    "@time main_gpu( 2^10; animation=true)"
   ]
  },
  {
   "cell_type": "code",
   "execution_count": null,
   "metadata": {},
   "outputs": [],
   "source": [
    "@time main_gpu( 2^14; animation=false)"
   ]
  },
  {
   "cell_type": "code",
   "execution_count": 1,
   "metadata": {},
   "outputs": [
    {
     "ename": "UndefVarError",
     "evalue": "UndefVarError: main_cpu not defined",
     "output_type": "error",
     "traceback": [
      "UndefVarError: main_cpu not defined",
      "",
      "Stacktrace:",
      " [1] top-level scope at util.jl:156",
      " [2] top-level scope at In[1]:1"
     ]
    }
   ],
   "source": [
    "@time main_cpu( 2^14; animation=false)"
   ]
  },
  {
   "cell_type": "markdown",
   "metadata": {},
   "source": [
    "##### "
   ]
  }
 ],
 "metadata": {
  "jupytext": {
   "cell_metadata_filter": "-all",
   "encoding": "# -*- coding: utf-8 -*-",
   "formats": "ipynb,jl:light",
   "main_language": "julia",
   "notebook_metadata_filter": "-all"
  },
  "kernelspec": {
   "display_name": "Julia 1.1.1",
   "language": "julia",
   "name": "julia-1.1"
  },
  "language_info": {
   "file_extension": ".jl",
   "mimetype": "application/julia",
   "name": "julia",
   "version": "1.1.1"
  }
 },
 "nbformat": 4,
 "nbformat_minor": 2
}
