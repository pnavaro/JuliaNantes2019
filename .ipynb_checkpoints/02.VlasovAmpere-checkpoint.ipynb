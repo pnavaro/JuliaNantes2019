{
 "cells": [
  {
   "cell_type": "markdown",
   "metadata": {},
   "source": [
    "## 1D Vlasov–Ampere system\n",
    "\n",
    "$$\n",
    "\\frac{\\partial f}{\\partial t} + \\upsilon \\frac{\\partial f}{\\partial x}\n",
    "- E(t,x) \\frac{\\partial f}{\\partial \\upsilon} = 0\n",
    "$$\n",
    "\n",
    "$$\n",
    "\\frac{\\partial E}{\\partial t} = - J = \\int f\\upsilon \\; d\\upsilon\n",
    "$$"
   ]
  },
  {
   "cell_type": "markdown",
   "metadata": {},
   "source": [
    "## Algorithm \n",
    "\n",
    "- For each $j$ compute discrete Fourier transform in $x$ of $f^n(x_i,\\upsilon_j)$ yielding $f_k^n(\\upsilon_j)$, \n",
    "\n",
    "- For $ k \\neq 0 $\n",
    "\n",
    "    - Compute \n",
    "    \n",
    "    $$f^{n+1}_k(\\upsilon_j) = e^{−2i\\pi k \\upsilon\n",
    "    \\Delta t/L} f_n^k(\\upsilon_j),$$\n",
    "    \n",
    "    - Compute \n",
    "    \n",
    "    $$\\rho_k^{n+1} = \\Delta \\upsilon \\sum_j􏰄 f^{n+1}_k(\\upsilon_j),$$\n",
    "    \n",
    "    - Compute\n",
    "    \n",
    "    $$E^{n+1}_k = \\rho^{n+1}_k L/(2i\\pi k \\epsilon_0),$$\n",
    "    \n",
    "- For $k = 0$ do nothing: \n",
    "\n",
    "$$f_{n+1}(\\upsilon_j) = f^n_k(\\upsilon_j), E^{n+1}_k = E^n_k$$.\n",
    "\n",
    "- Perform inverse discrete Fourier transform of $E^{n+1}_k$ and for each $j$ of $f^{n+1}_k (\\upsilon_j)$."
   ]
  },
  {
   "cell_type": "code",
   "execution_count": 1,
   "metadata": {},
   "outputs": [
    {
     "name": "stderr",
     "output_type": "stream",
     "text": [
      "┌ Info: Recompiling stale cache file /Users/navaro/.julia/compiled/v1.1/Plots/ld3vC.ji for Plots [91a5bcdd-55d7-5caf-9e0b-520d859cae80]\n",
      "└ @ Base loading.jl:1184\n"
     ]
    }
   ],
   "source": [
    "using ProgressMeter, FFTW, Plots, LinearAlgebra\n",
    "using BenchmarkTools, Statistics"
   ]
  },
  {
   "cell_type": "code",
   "execution_count": null,
   "metadata": {
    "lines_to_next_cell": 2
   },
   "outputs": [],
   "source": [
    "\"\"\"\n",
    "    UniformMesh(start, stop, length)\n",
    "\n",
    "    1D uniform mesh data.\n",
    "\"\"\"\n",
    "struct UniformMesh\n",
    "\n",
    "   start    :: Float64\n",
    "   stop     :: Float64\n",
    "   length   :: Int64\n",
    "   step     :: Float64\n",
    "   points   :: Vector{Float64}\n",
    "\n",
    "   function UniformMesh(start, stop, length::Int; endpoint=true)\n",
    "\n",
    "       points = range(start, stop=stop, length=length+1)[1:end-1]\n",
    "       step = (stop - start) / length\n",
    "\n",
    "       new( start, stop, length, step, points)\n",
    "\n",
    "   end\n",
    "\n",
    "end"
   ]
  },
  {
   "cell_type": "code",
   "execution_count": null,
   "metadata": {},
   "outputs": [],
   "source": [
    "\"\"\"\n",
    "\n",
    "    compute_rho( mesh, f)\n",
    "\n",
    "    Compute charge density\n",
    "\n",
    "    ρ(x,t) = ∫ f(x,v,t) dv\n",
    "\n",
    "    return ρ - ρ̄ \n",
    "\n",
    "\"\"\"\n",
    "function compute_rho(meshv::UniformMesh, f)\n",
    "\n",
    "   dv  = meshv.step\n",
    "   ρ = dv .* vec(sum(real(f), dims=2))\n",
    "   ρ .- mean(ρ)\n",
    "   \n",
    "end"
   ]
  },
  {
   "cell_type": "code",
   "execution_count": null,
   "metadata": {
    "lines_to_next_cell": 2
   },
   "outputs": [],
   "source": [
    "\"\"\"\n",
    "compute electric field from ρ\n",
    "\"\"\"\n",
    "function compute_e(mesh::UniformMesh, ρ)\n",
    "\n",
    "   n = mesh.length\n",
    "   k =  2π / (mesh.stop - mesh.start)\n",
    "   modes  = zeros(Float64, n)\n",
    "   modes .= k * vcat(0:n÷2-1,-n÷2:-1)\n",
    "   modes[1] = 1.0\n",
    "   ρ̂ = fft(ρ)./modes\n",
    "   vec(real(ifft(-1im .* ρ̂)))\n",
    "\n",
    "end"
   ]
  },
  {
   "cell_type": "code",
   "execution_count": null,
   "metadata": {
    "lines_to_next_cell": 2
   },
   "outputs": [],
   "source": [
    "\"\"\"\n",
    "\n",
    "    advection! = AmpereAdvection( mesh ) \n",
    "\n",
    "    ∂f/∂t − υ∂f/∂x  = 0\n",
    "    ∂E/∂t = −J = ∫ fυ dv\n",
    "    ∂f/∂t − E(x) ∂f/∂v  = 0\n",
    "\n",
    "\"\"\"\n",
    "struct AmpereAdvection \n",
    "    \n",
    "    mesh :: UniformMesh\n",
    "    kx   :: Vector{Float64}\n",
    "\n",
    "    function AmpereAdvection( mesh )\n",
    "        \n",
    "        nx  = mesh.length\n",
    "        dx  = mesh.step\n",
    "        Lx  = mesh.stop - mesh.start\n",
    "        kx  = zeros(Float64, nx)\n",
    "        kx .= 2π/Lx .* [0:nx÷2-1;-nx÷2:-1]\n",
    "        new( mesh, kx)\n",
    "      \n",
    "    end\n",
    "\n",
    "end"
   ]
  },
  {
   "cell_type": "code",
   "execution_count": null,
   "metadata": {
    "lines_to_next_cell": 2
   },
   "outputs": [],
   "source": [
    "\"\"\"\n",
    "    Advection function along v\n",
    "\n",
    "```math\n",
    "\\\\frac{df}{dt} = e \\\\frac{df}{dv}\n",
    "```\n",
    "\n",
    "\"\"\"\n",
    "function (adv :: AmpereAdvection)( fᵗ  :: Array{ComplexF64,2}, \n",
    "                                   e   :: Vector{ComplexF64}, \n",
    "                                   dt  :: Float64 )\n",
    "    fft!(fᵗ, 1)\n",
    "    fᵗ .= fᵗ .* exp.(-1im * dt * adv.kx * transpose(e))\n",
    "    ifft!(fᵗ, 1)\n",
    "\n",
    "end"
   ]
  },
  {
   "cell_type": "code",
   "execution_count": null,
   "metadata": {
    "lines_to_next_cell": 2
   },
   "outputs": [],
   "source": [
    "\"\"\"\n",
    "    Advection function along x and e computation\n",
    "\n",
    "```math\n",
    "\\\\frac{df}{dt} = \\\\upsilon \\\\frac{df}{dx}\n",
    "```\n",
    "```math\n",
    "\\\\frac{\\\\partial E}{\\\\partial t} = \\\\int f\\\\upsilon \\\\; d\\\\upsilon\n",
    "```\n",
    "\n",
    "\"\"\"\n",
    "function (adv :: AmpereAdvection)( f   :: Array{ComplexF64,2}, \n",
    "                                   e   :: Vector{ComplexF64}, \n",
    "                                   v   :: Vector{Float64}, \n",
    "                                   dt  :: Float64 )\n",
    "    \n",
    "    ev = exp.(-1im*dt * adv.kx * transpose(v))    \n",
    "    \n",
    "    fft!(f,1)\n",
    "    f .= f .* ev\n",
    "    dv = v[2]-v[1]\n",
    "    ρ = dv * vec(sum(f,dims=2))  \n",
    "    for i in 2:length(e)\n",
    "        e[i] = -1im * ρ[i] ./ adv.kx[i]\n",
    "    end\n",
    "    e[1] = 0.0\n",
    "    ifft!(f,1)\n",
    "    ifft!(e)\n",
    "    e .= real(e)\n",
    "end"
   ]
  },
  {
   "cell_type": "code",
   "execution_count": null,
   "metadata": {},
   "outputs": [],
   "source": [
    "\"\"\"\n",
    "Landau damping initialisation function\n",
    "\n",
    "```math\n",
    "f(x,v) = \\\\frac{1}{\\\\sqrt{2\\\\pi}}(1+ ϵ \\\\cdot cos(kₓ x)) e^{-v^2/2}\n",
    "```\n",
    "\n",
    "\"\"\"\n",
    "function landau( ϵ, kx, x, v )\n",
    "    \n",
    "    (1.0.+ϵ*cos.(kx*x))/sqrt(2π) .* transpose(exp.(-0.5*v.*v))\n",
    "    \n",
    "end"
   ]
  },
  {
   "cell_type": "code",
   "execution_count": null,
   "metadata": {},
   "outputs": [],
   "source": [
    "?landau"
   ]
  },
  {
   "cell_type": "code",
   "execution_count": null,
   "metadata": {},
   "outputs": [],
   "source": [
    "function vlasov_ampere( nx, nv, xmin, xmax, vmin, vmax , tf, nt)\n",
    "\n",
    "    meshx = UniformMesh(xmin, xmax, nx)\n",
    "    meshv = UniformMesh(vmin, vmax, nv)\n",
    "            \n",
    "    # Initialize distribution function\n",
    "    x = meshx.points\n",
    "    v = meshv.points\n",
    "    ϵ, kx = 0.001, 0.5\n",
    "    \n",
    "    # Allocate arrays for distribution function and its transposed\n",
    "    f = zeros(Complex{Float64},(nx,nv))\n",
    "    fᵀ= zeros(Complex{Float64},(nv,nx))\n",
    "    \n",
    "    f .= landau( ϵ, kx, x, v)\n",
    "    \n",
    "    transpose!(fᵀ,f)\n",
    "    \n",
    "    ρ  = compute_rho(meshv, f)\n",
    "    e  = zeros(ComplexF64, nx)\n",
    "    e .= compute_e(meshx, ρ)\n",
    "    \n",
    "    nrj = Float64[]\n",
    "    \n",
    "    dt = tf / nt\n",
    "    \n",
    "    advection_x! = AmpereAdvection( meshx )\n",
    "    advection_v! = AmpereAdvection( meshv )\n",
    "            \n",
    "    @showprogress 1 for i in 1:nt\n",
    "        \n",
    "        advection_v!(fᵀ, e,  0.5dt)\n",
    "        \n",
    "        transpose!(f,fᵀ)\n",
    "        \n",
    "        advection_x!( f, e, v, dt)\n",
    "        \n",
    "        push!(nrj, log(sqrt((sum(e.^2))*meshx.step)))\n",
    "        \n",
    "        transpose!(fᵀ,f)\n",
    "        \n",
    "        advection_v!(fᵀ, e,  0.5dt)\n",
    "        \n",
    "    end\n",
    "    real(f), nrj\n",
    "end"
   ]
  },
  {
   "cell_type": "code",
   "execution_count": null,
   "metadata": {},
   "outputs": [],
   "source": [
    "nx, nv = 256, 256\n",
    "xmin, xmax =  0., 4*π\n",
    "vmin, vmax = -6., 6.\n",
    "tf = 60\n",
    "nt = 600\n",
    "t =  range(0,stop=tf,length=nt)\n",
    "plot(t, -0.1533*t.-5.48)\n",
    "f, nrj = vlasov_ampere(nx, nv, xmin, xmax, vmin, vmax, tf, nt)\n",
    "plot!(t, nrj , label=:ampere )"
   ]
  }
 ],
 "metadata": {
  "jupytext": {
   "encoding": "# -*- coding: utf-8 -*-",
   "formats": "ipynb,jl:light",
   "text_representation": {
    "extension": ".jl",
    "format_name": "light",
    "format_version": "1.4",
    "jupytext_version": "1.1.6"
   }
  },
  "kernelspec": {
   "display_name": "Julia 1.1.1",
   "language": "julia",
   "name": "julia-1.1"
  },
  "language_info": {
   "file_extension": ".jl",
   "mimetype": "application/julia",
   "name": "julia",
   "version": "1.1.1"
  }
 },
 "nbformat": 4,
 "nbformat_minor": 2
}
