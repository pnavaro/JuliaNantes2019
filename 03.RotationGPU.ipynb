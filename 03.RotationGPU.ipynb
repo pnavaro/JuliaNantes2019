{
 "cells": [
  {
   "cell_type": "code",
   "execution_count": null,
   "id": "e44f1eaf",
   "metadata": {},
   "outputs": [],
   "source": [
    "using Plots, BenchmarkTools, FFTW, LinearAlgebra"
   ]
  },
  {
   "cell_type": "code",
   "execution_count": null,
   "id": "4b3f6ef3",
   "metadata": {},
   "outputs": [],
   "source": [
    "struct Mesh\n",
    "    \n",
    "    nx   :: Int64\n",
    "    ny   :: Int64\n",
    "    x    :: Vector{Float64}\n",
    "    y    :: Vector{Float64}\n",
    "    kx   :: Vector{Float64}\n",
    "    ky   :: Vector{Float64}\n",
    "    \n",
    "    function Mesh( xmin, xmax, nx, ymin, ymax, ny)\n",
    "        x = range(xmin, stop=xmax, length=nx+1)[1:end-1]  ## we remove the end point\n",
    "        y = range(ymin, stop=ymax, length=ny+1)[1:end-1]  ## periodic boundary condition\n",
    "        kx  = 2π ./ (xmax-xmin) .* [0:nx÷2-1;nx÷2-nx:-1]\n",
    "        ky  = 2π ./ (ymax-ymin) .* [0:ny÷2-1;ny÷2-ny:-1]\n",
    "        new( nx, ny, x, y, kx, ky)\n",
    "    end\n",
    "end"
   ]
  },
  {
   "cell_type": "code",
   "execution_count": null,
   "id": "90711cab",
   "metadata": {},
   "outputs": [],
   "source": [
    "function exact(time, mesh :: Mesh; shift=1.0)\n",
    "   \n",
    "    f = zeros(Float64,(mesh.nx, mesh.ny))\n",
    "    for (i, x) in enumerate(mesh.x), (j, y) in enumerate(mesh.y)\n",
    "        xn = cos(time)*x - sin(time)*y\n",
    "        yn = sin(time)*x + cos(time)*y\n",
    "        f[i,j] = exp(-(xn-shift)*(xn-shift)/0.1)*exp(-(yn-shift)*(yn-shift)/0.1)\n",
    "    end\n",
    "\n",
    "    f\n",
    "end"
   ]
  },
  {
   "cell_type": "code",
   "execution_count": null,
   "id": "125efee8",
   "metadata": {},
   "outputs": [],
   "source": [
    "function rotation_on_cpu( mesh :: Mesh, nt :: Int64, tf :: Float64) \n",
    "    \n",
    "    dt = tf / nt\n",
    "    \n",
    "    f   = zeros(ComplexF64,(mesh.nx,mesh.ny))\n",
    "    f  .= exact( 0.0, mesh )\n",
    "    \n",
    "    exky = exp.( 1im*tan(dt/2) .* mesh.x  .* mesh.ky')\n",
    "    ekxy = exp.(-1im*sin(dt)   .* mesh.y' .* mesh.kx )\n",
    "    \n",
    "    for n = 1:nt\n",
    "        \n",
    "        fft!(f, 2)\n",
    "        f .= exky .* f\n",
    "        ifft!(f,2)\n",
    "        \n",
    "        fft!(f, 1)\n",
    "        f .= ekxy .* f\n",
    "        ifft!(f, 1)\n",
    "        \n",
    "        fft!(f, 2)\n",
    "        f .= exky .* f\n",
    "        ifft!(f, 2)\n",
    "        \n",
    "    end\n",
    "    \n",
    "    real(f)\n",
    "    \n",
    "end"
   ]
  },
  {
   "cell_type": "code",
   "execution_count": null,
   "id": "8a3ae1d5",
   "metadata": {},
   "outputs": [],
   "source": [
    "mesh = Mesh( -π, π, 1024, -π, π, 1024)\n",
    "nt, tf = 100, 20.\n",
    "rotation_on_cpu(mesh, 1, 0.1)\n",
    "@time norm( rotation_on_cpu(mesh, nt, tf) .- exact( tf, mesh))"
   ]
  },
  {
   "cell_type": "code",
   "execution_count": null,
   "id": "28c2067e",
   "metadata": {},
   "outputs": [],
   "source": [
    "using CUDAdrv\n",
    "CUDAdrv.name(CuDevice(0))"
   ]
  },
  {
   "cell_type": "code",
   "execution_count": null,
   "id": "12178c3e",
   "metadata": {},
   "outputs": [],
   "source": [
    "using CuArrays\n",
    "using CuArrays.CUFFT"
   ]
  },
  {
   "cell_type": "code",
   "execution_count": null,
   "id": "6c56a505",
   "metadata": {},
   "outputs": [],
   "source": [
    "function rotation_on_gpu( mesh :: Mesh, nt :: Int64, tf :: Float64)\n",
    "    \n",
    "    dt = tf / nt\n",
    "    \n",
    "    f   = zeros(ComplexF64,(mesh.nx, mesh.ny))\n",
    "    f  .= exact( 0.0, mesh)\n",
    "    \n",
    "    d_f    = CuArray(f) # allocate f on GPU\n",
    "    \n",
    "    # Create fft plans on GPU\n",
    "    p_x    = plan_fft!(d_f,  [1])\n",
    "    pinv_x = plan_ifft!(d_f, [1])\n",
    "    p_y    = plan_fft!(d_f,  [2])\n",
    "    pinv_y = plan_ifft!(d_f, [2])  \n",
    "    \n",
    "    # Allocate on GPU\n",
    "    d_exky = CuArray(exp.( 1im*tan(dt/2) .* mesh.x  .* mesh.ky'))\n",
    "    d_ekxy = CuArray(exp.(-1im*sin(dt)   .* mesh.y' .* mesh.kx ))\n",
    "    \n",
    "    for n = 1:nt\n",
    "        \n",
    "        p_y * d_f\n",
    "        d_f .*= d_exky \n",
    "        pinv_y * d_f\n",
    "        \n",
    "        p_x * d_f\n",
    "        d_f .*= d_ekxy \n",
    "        pinv_x * d_f\n",
    "        \n",
    "        p_y * d_f\n",
    "        d_f .*= d_exky \n",
    "        pinv_y * d_f\n",
    "        \n",
    "    end\n",
    "    \n",
    "    f .= collect(d_f) # Transfer f from GPU to CPU\n",
    "    \n",
    "    real(f)\n",
    "    \n",
    "end"
   ]
  },
  {
   "cell_type": "code",
   "execution_count": null,
   "id": "18bf57ec",
   "metadata": {},
   "outputs": [],
   "source": [
    "nt, tf = 100, 20.\n",
    "rotation_on_gpu(mesh, 1, 0.1)\n",
    "@time norm( rotation_on_gpu(mesh, nt, tf) .- exact( tf, mesh))"
   ]
  },
  {
   "cell_type": "code",
   "execution_count": null,
   "id": "1f692a7e",
   "metadata": {},
   "outputs": [],
   "source": []
  }
 ],
 "metadata": {
  "jupytext": {
   "encoding": "# -*- coding: utf-8 -*-",
   "formats": "md,..//ipynb"
  },
  "kernelspec": {
   "display_name": "Julia 1.1.1",
   "language": "julia",
   "name": "julia-1.1"
  }
 },
 "nbformat": 4,
 "nbformat_minor": 5
}
